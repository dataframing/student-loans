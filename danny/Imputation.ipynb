{
 "cells": [
  {
   "cell_type": "code",
   "execution_count": 1,
   "metadata": {
    "collapsed": true
   },
   "outputs": [],
   "source": [
    "%matplotlib inline\n",
    "\n",
    "import matplotlib\n",
    "import numpy as np\n",
    "import pandas as pd\n",
    "import matplotlib.pyplot as plt\n",
    "from pprint import pprint\n",
    "import seaborn as sns"
   ]
  },
  {
   "cell_type": "code",
   "execution_count": 2,
   "metadata": {
    "collapsed": false
   },
   "outputs": [],
   "source": [
    "train_master = pd.read_csv(\"../data/master_train.csv\")\n",
    "test_master = pd.read_csv(\"../data/master_test.csv\")\n",
    "\n",
    "# master = pd.read_csv(\"../data/master.csv\")\n",
    "\n",
    "train_master = train_master.drop(['ENDOWMENT03', 'CPI_INDEX', 'HEPI_INDEX'], axis=1)\n",
    "test_master = test_master.drop(['ENDOWMENT03', 'CPI_INDEX', 'HEPI_INDEX'], axis=1)"
   ]
  },
  {
   "cell_type": "code",
   "execution_count": 3,
   "metadata": {
    "collapsed": false
   },
   "outputs": [],
   "source": [
    "# TRAIN\n",
    "nans_train = pd.isnull(train_master)\n",
    "nans_copy_train = pd.isnull(train_master)\n",
    "\n",
    "from collections import Counter\n",
    "\n",
    "university_nans_train = Counter()\n",
    "column_count_nans_train = Counter()\n",
    "\n",
    "for index, row in zip(nans_copy_train.index, nans_copy_train.values):\n",
    "    row_data = dict(zip(nans_copy_train.columns.values, row))\n",
    "    for column, value in row_data.items():\n",
    "        if value:\n",
    "            university_nans_train[index] += 1\n",
    "            column_count_nans_train[column] += 1\n",
    "            \n",
    "# A good number of our institutions have between 0 and 10 NaN values.\n",
    "university_nan_dist_train = pd.DataFrame.from_dict(university_nans_train, orient='index').reset_index()\n",
    "university_nan_dist_train = university_nan_dist_train.rename(columns={'index':'event', 0:'count'})\n",
    "# plt.hist(university_nan_dist['count'])\n",
    "\n",
    "# Feature to NaN DataFrame\n",
    "column_nan_dist_train = pd.DataFrame.from_dict(column_count_nans_train, orient='index').reset_index()\n",
    "column_nan_dist_train = column_nan_dist_train.rename(columns={'index':'event', 0:'count'})\n",
    "column_nan_dist_train['count'] = column_nan_dist_train['count'].astype(int)"
   ]
  },
  {
   "cell_type": "code",
   "execution_count": 4,
   "metadata": {
    "collapsed": true
   },
   "outputs": [],
   "source": [
    "# TEST\n",
    "nans_test = pd.isnull(test_master)\n",
    "nans_copy_test = pd.isnull(test_master)\n",
    "\n",
    "from collections import Counter\n",
    "\n",
    "university_nans_test = Counter()\n",
    "column_count_nans_test = Counter()\n",
    "\n",
    "for index, row in zip(nans_copy_test.index, nans_copy_test.values):\n",
    "    row_data = dict(zip(nans_copy_test.columns.values, row))\n",
    "    for column, value in row_data.items():\n",
    "        if value:\n",
    "            university_nans_test[index] += 1\n",
    "            column_count_nans_test[column] += 1\n",
    "            \n",
    "# A good number of our institutions have between 0 and 10 NaN values.\n",
    "university_nan_dist_test = pd.DataFrame.from_dict(university_nans_test, orient='index').reset_index()\n",
    "university_nan_dist_test = university_nan_dist_test.rename(columns={'index':'event', 0:'count'})\n",
    "# plt.hist(university_nan_dist['count'])\n",
    "\n",
    "# Feature to NaN DataFrame\n",
    "column_nan_dist_test = pd.DataFrame.from_dict(column_count_nans_test, orient='index').reset_index()\n",
    "column_nan_dist_test = column_nan_dist_test.rename(columns={'index':'event', 0:'count'})\n",
    "column_nan_dist_test['count'] = column_nan_dist_test['count'].astype(int)"
   ]
  },
  {
   "cell_type": "code",
   "execution_count": 5,
   "metadata": {
    "collapsed": false
   },
   "outputs": [],
   "source": [
    "# pd.merge(column_nan_dist_test, column_nan_dist_train, on='event')"
   ]
  },
  {
   "cell_type": "code",
   "execution_count": 6,
   "metadata": {
    "collapsed": false
   },
   "outputs": [
    {
     "name": "stdout",
     "output_type": "stream",
     "text": [
      "{'ACADSUPP01': (4.2073726781828764, 5.2744692402709941),\n",
      " 'CERTIFICATES_AWARDS_100FTE': (-5.4394269049486859, -4.3706866095833803),\n",
      " 'FED_GRANT_PCT': (-9.118177489037528, -7.7975494835965193),\n",
      " 'FT_FACULTY_PER_100FTE': (0.089825329286457589, 1.1157958877836527),\n",
      " 'FT_FIRST_TIME_FIRST_YR_DEG_SEEK': (-8.9163401179046211, -7.5458261171946397),\n",
      " 'GRANT01': (-9.0850808729801678, -7.5251171295098693),\n",
      " 'GRANT02': (0.098737349705790067, 1.3752045471045764),\n",
      " 'GRANT07': (-6.5473366752568554, -1.226904537572568),\n",
      " 'INSTITUTIONAL_GRANT_AID_SHARE': (3.6583397314049324, 4.7954199918828389),\n",
      " 'INST_GRANT_AVG_AMOUNT': (0.13274071321886916, 1.3035156280332953),\n",
      " 'INST_GRANT_PCT': (-9.118177489037528, -7.7975494835965193),\n",
      " 'LOAN_AVG_AMOUNT': (-9.0154342230598221, -7.5849931351842397),\n",
      " 'LOAN_PCT': (-9.118177489037528, -7.7975494835965193),\n",
      " 'NETTUITION01': (-8.8718579919394465, 5.4473438890714716),\n",
      " 'NETTUITION_SHARE': (-9.3042697015481757, 2.6855786889799971),\n",
      " 'NET_STUDENT_TUITION': (-8.8718579919394465, 5.4473438890714716),\n",
      " 'PRIV_INVEST_ENDOW': (3.8675134943615208, 5.0540622529340062),\n",
      " 'PT_FACULTY_PER_100FTE': (0.53161871684405737, 1.5513120352788268),\n",
      " 'RESTRICTED_REVENUE': (2.8945582148986011, 5.2043293233731243),\n",
      " 'SALARYTOTAL': (3.043101630019085, 4.2102929737637451),\n",
      " 'STICKER_PRICE_SHARE': (-9.3042697015481757, 2.6855786889799971),\n",
      " 'STUDSERV01': (-0.027744328816125874, 2.3375088941335838),\n",
      " 'TOTAL03_REVENUE': (-121.29496013022492, 136.45910214205924),\n",
      " 'TOTALCOMPLETIONS_100FTE': (-6.2545762400744493, 8.572119797086696),\n",
      " 'TOTALDEGREES_100FTE': (3.5047342346354595, 4.694229253707122),\n",
      " 'TOTAL_ENROLLMENT_ASIAN_TOT': (-7.7168545486939726, 6.7114431187674901),\n",
      " 'TOTAL_ENROLLMENT_BLACK_TOT': (-7.7168545486939726, 6.7114431187674901),\n",
      " 'TOTAL_ENROLLMENT_HISP_TOT': (-7.7168545486939726, 6.7114431187674901),\n",
      " 'TOTAL_ENROLLMENT_WHITE_TOT': (-7.7168545486939726, 6.7114431187674901),\n",
      " 'TOTAL_FULL_TIME': (-4.3605897807137453, 3.1124827259137753),\n",
      " 'TUITIONFEE02_TF': (1.7866005331427763, 2.9203581097886566),\n",
      " 'TUITION_DISCOUNT': (3.6583397314049324, 4.7954199918828389)}\n"
     ]
    }
   ],
   "source": [
    "import statsmodels.stats.api as sms\n",
    "\n",
    "# TRAIN\n",
    "conf_interval_train = {feature: 0 for feature in column_nan_dist_train['event']}\n",
    "\n",
    "for feature in conf_interval_train.keys():\n",
    "    valid, invalid = train_master[train_master[feature].notnull()], train_master[train_master[feature].isnull()]\n",
    "    valid, invalid = valid['DRate'], invalid['DRate']\n",
    "    \n",
    "    cm = sms.CompareMeans(sms.DescrStatsW(invalid), sms.DescrStatsW(valid))\n",
    "    conf_interval_train[feature] = cm.tconfint_diff(usevar='unequal')\n",
    "    \n",
    "pprint(conf_interval_train)"
   ]
  },
  {
   "cell_type": "code",
   "execution_count": 7,
   "metadata": {
    "collapsed": false
   },
   "outputs": [
    {
     "name": "stdout",
     "output_type": "stream",
     "text": [
      "{'ACADSUPP01': (2.9468323815252404, 3.918239701074814),\n",
      " 'CERTIFICATES_AWARDS_100FTE': (-5.1912986044274039, -4.2147484832260815),\n",
      " 'FED_GRANT_PCT': (-8.3915124144337074, -7.2701186331128351),\n",
      " 'FT_FACULTY_PER_100FTE': (-2.7466361979861391, 0.84939674787693176),\n",
      " 'FT_FIRST_TIME_FIRST_YR_DEG_SEEK': (-8.3070958907927928, -7.2022676154435974),\n",
      " 'GRANT01': (-8.5122249717290615, -7.1860742839675815),\n",
      " 'GRANT02': (-0.11059800344589832, 1.0221711080487603),\n",
      " 'GRANT07': (-7.940656135553021, -4.6191981327804212),\n",
      " 'INSTITUTIONAL_GRANT_AID_SHARE': (2.944134495205859, 3.9775000162928289),\n",
      " 'INST_GRANT_AVG_AMOUNT': (-0.54360487596531248, 0.50453058122837069),\n",
      " 'INST_GRANT_PCT': (-8.3915124144337074, -7.2701186331128351),\n",
      " 'LOAN_AVG_AMOUNT': (-7.8615989673270192, -6.5843714881962985),\n",
      " 'LOAN_PCT': (-8.3915124144337074, -7.2701186331128351),\n",
      " 'NETTUITION01': (-7.3042550428807687, -0.13656375218785355),\n",
      " 'NETTUITION_SHARE': (-6.7617804855448309, -0.3234938492409043),\n",
      " 'NET_STUDENT_TUITION': (-7.3042550428807687, -0.13656375218785355),\n",
      " 'PRIV_INVEST_ENDOW': (2.7509554060301697, 3.8042632964637688),\n",
      " 'PT_FACULTY_PER_100FTE': (1.9617207410404629, 3.6937294381959549),\n",
      " 'RESTRICTED_REVENUE': (1.4369371881650381, 3.353955843168039),\n",
      " 'SALARYTOTAL': (2.0445651559972773, 3.0888002853516832),\n",
      " 'STICKER_PRICE_SHARE': (-6.7617804855448309, -0.3234938492409043),\n",
      " 'STUDSERV01': (-1.1041110378989494, 0.89181537388837373),\n",
      " 'TOTAL03_REVENUE': (-40.660107566110923, 28.650982885358658),\n",
      " 'TOTALCOMPLETIONS_100FTE': (-6.3653746023359981, 2.9257705581716964),\n",
      " 'TOTALDEGREES_100FTE': (2.4159165245720233, 3.4692916393783966),\n",
      " 'TOTAL_ENROLLMENT_ASIAN_TOT': (-6.3653746023359981, 2.9257705581716964),\n",
      " 'TOTAL_ENROLLMENT_BLACK_TOT': (-6.3653746023359981, 2.9257705581716964),\n",
      " 'TOTAL_ENROLLMENT_HISP_TOT': (-6.3653746023359981, 2.9257705581716964),\n",
      " 'TOTAL_ENROLLMENT_WHITE_TOT': (-6.3653746023359981, 2.9257705581716964),\n",
      " 'TOTAL_FULL_TIME': (-3.3220679751373661, 0.97678214290283538),\n",
      " 'TUITIONFEE02_TF': (1.0563885282064742, 2.0802325595972118),\n",
      " 'TUITION_DISCOUNT': (2.944134495205859, 3.9775000162928289)}\n"
     ]
    }
   ],
   "source": [
    "# TEST\n",
    "conf_interval_test = {feature: 0 for feature in column_nan_dist_test['event']}\n",
    "\n",
    "for feature in conf_interval_test.keys():\n",
    "    valid, invalid = test_master[test_master[feature].notnull()], test_master[test_master[feature].isnull()]\n",
    "    valid, invalid = valid['DRate'], invalid['DRate']\n",
    "    \n",
    "    cm = sms.CompareMeans(sms.DescrStatsW(invalid), sms.DescrStatsW(valid))\n",
    "    conf_interval_test[feature] = cm.tconfint_diff(usevar='unequal')\n",
    "\n",
    "cm = sms.CompareMeans(sms.DescrStatsW(invalid), sms.DescrStatsW(valid))\n",
    "cm.tconfint_diff(usevar='unequal')\n",
    "\n",
    "pprint(conf_interval_test)"
   ]
  },
  {
   "cell_type": "code",
   "execution_count": 8,
   "metadata": {
    "collapsed": false
   },
   "outputs": [],
   "source": [
    "# TRAIN\n",
    "imputable_train = [feature for feature, interval in conf_interval_train.items() \n",
    "                   if interval[0] <= 0 <= interval[1] or interval[1] >= 0 >= interval[0]]\n",
    "\n",
    "non_imputable_train = [feature for feature in conf_interval_train.keys() if feature not in imputable_train]"
   ]
  },
  {
   "cell_type": "code",
   "execution_count": 9,
   "metadata": {
    "collapsed": true
   },
   "outputs": [],
   "source": [
    "# TEST\n",
    "imputable_test = [feature for feature, interval in conf_interval_test.items() \n",
    "                   if interval[0] <= 0 <= interval[1] or interval[1] >= 0 >= interval[0]]\n",
    "\n",
    "non_imputable_test = [feature for feature in conf_interval_test.keys() if feature not in imputable_test]"
   ]
  },
  {
   "cell_type": "code",
   "execution_count": 10,
   "metadata": {
    "collapsed": false
   },
   "outputs": [],
   "source": [
    "# TODO revisit if we decide to go with clustering\n",
    "# TRAIN\n",
    "train_master = train_master.drop(non_imputable_train, axis=1)\n",
    "\n",
    "for feature in imputable_train:\n",
    "    train_master[feature + '_missing'] = train_master[feature].isnull().astype(int)\n",
    "    valid_values = train_master[feature].dropna()\n",
    "    mean = np.mean(valid_values)\n",
    "    train_master[feature].replace({np.nan: mean}, inplace=True)"
   ]
  },
  {
   "cell_type": "code",
   "execution_count": 11,
   "metadata": {
    "collapsed": true
   },
   "outputs": [],
   "source": [
    "# TEST\n",
    "test_master = test_master.drop(non_imputable_test, axis=1)\n",
    "\n",
    "for feature in imputable_test:\n",
    "    test_master[feature + '_missing'] = test_master[feature].isnull().astype(int)\n",
    "    valid_values = test_master[feature].dropna()\n",
    "    mean = np.mean(valid_values)\n",
    "    test_master[feature].replace({np.nan: mean}, inplace=True)"
   ]
  },
  {
   "cell_type": "code",
   "execution_count": 12,
   "metadata": {
    "collapsed": false
   },
   "outputs": [
    {
     "data": {
      "text/plain": [
       "{'CENSUS_REGION': {1, 2, 3, 4, 5},\n",
       " 'CONTROL_x': {1, 2, 3},\n",
       " 'CONTROL_y': {1, 2, 3},\n",
       " 'Ethnic Code': {1, 2, 3, 5},\n",
       " 'HLOFFER': {1, 2, 3, 4, 5, 6, 7, 8, 9},\n",
       " 'HOSPITAL': {-2, 1, 2},\n",
       " 'ICLEVEL_x': {1, 2, 3},\n",
       " 'ICLEVEL_y': {1, 2, 3},\n",
       " 'INSTCAT': {-2, 1, 2, 3, 4, 5, 6},\n",
       " 'INSTSIZE': {-2, -1, 1, 2, 3, 4, 5},\n",
       " 'LOCALE': {11, 12, 13, 21, 22, 23, 31, 32, 33, 41, 42, 43},\n",
       " 'Prog\\nLength': {1, 2, 3, 4, 5, 6, 7, 8, 11, 12},\n",
       " 'SECTOR_x': {0, 1, 2, 3, 4, 5, 6, 7, 8, 9},\n",
       " 'SECTOR_y': {0, 1, 2, 3, 4, 5, 6, 7, 8, 9},\n",
       " 'School\\nType': {1, 2, 3}}"
      ]
     },
     "execution_count": 12,
     "metadata": {},
     "output_type": "execute_result"
    }
   ],
   "source": [
    "# TRAIN\n",
    "categoricals_train = {}\n",
    "\n",
    "for column in train_master.columns.values:\n",
    "    values = set(train_master[column].values)\n",
    "    if len(values) < 30 and len(values) != 2:\n",
    "        categoricals_train[column] = values\n",
    "\n",
    "categoricals_train"
   ]
  },
  {
   "cell_type": "code",
   "execution_count": 13,
   "metadata": {
    "collapsed": false
   },
   "outputs": [
    {
     "data": {
      "text/plain": [
       "{'CENSUS_REGION': {1, 2, 3, 4, 5},\n",
       " 'CONTROL_x': {1, 2, 3},\n",
       " 'CONTROL_y': {1, 2, 3},\n",
       " 'Ethnic Code': {1, 2, 3, 5},\n",
       " 'HLOFFER': {1, 2, 3, 4, 5, 6, 7, 8, 9},\n",
       " 'HOSPITAL': {-2, -1, 1, 2},\n",
       " 'ICLEVEL_x': {1, 2, 3},\n",
       " 'ICLEVEL_y': {1, 2, 3},\n",
       " 'INSTCAT': {-2, 1, 2, 3, 4, 5, 6},\n",
       " 'INSTSIZE': {-2, 1, 2, 3, 4, 5},\n",
       " 'LOCALE': {11, 12, 13, 21, 22, 23, 31, 32, 33, 41, 42, 43},\n",
       " 'Prog\\nLength': {1, 2, 3, 4, 5, 6, 7, 8, 11, 12},\n",
       " 'SECTOR_x': {0, 1, 2, 3, 4, 5, 6, 7, 8, 9},\n",
       " 'SECTOR_y': {0, 1, 2, 3, 4, 5, 6, 7, 8, 9},\n",
       " 'School\\nType': {1, 2, 3}}"
      ]
     },
     "execution_count": 13,
     "metadata": {},
     "output_type": "execute_result"
    }
   ],
   "source": [
    "# TEST\n",
    "categoricals_test = {}\n",
    "\n",
    "for column in test_master.columns.values:\n",
    "    values = set(test_master[column].values)\n",
    "    if len(values) < 30 and len(values) != 2:\n",
    "        categoricals_test[column] = values\n",
    "\n",
    "categoricals_test"
   ]
  },
  {
   "cell_type": "code",
   "execution_count": 14,
   "metadata": {
    "collapsed": true
   },
   "outputs": [],
   "source": [
    "# TRAIN\n",
    "\n",
    "# Dummify categoricals\n",
    "for category in categoricals_train.keys():\n",
    "    train_master = pd.concat([train_master, pd.get_dummies(train_master[category], prefix=\"{}_\".format(category))], axis = 1)\n",
    "    train_master = train_master.drop(category, axis = 1)"
   ]
  },
  {
   "cell_type": "code",
   "execution_count": 15,
   "metadata": {
    "collapsed": true
   },
   "outputs": [],
   "source": [
    "# TEST\n",
    "\n",
    "# Dummify categoricals\n",
    "for category in categoricals_test.keys():\n",
    "    test_master = pd.concat([test_master, pd.get_dummies(test_master[category], prefix=\"{}_\".format(category))], axis = 1)\n",
    "    test_master = test_master.drop(category, axis = 1)"
   ]
  },
  {
   "cell_type": "code",
   "execution_count": 16,
   "metadata": {
    "collapsed": false
   },
   "outputs": [],
   "source": [
    "# TRAIN, TEST\n",
    "train_master.to_csv(\"../data/train_master_imputed_dummified.csv\")\n",
    "test_master.to_csv(\"../data/test_master_imputed_dummified.csv\")"
   ]
  },
  {
   "cell_type": "code",
   "execution_count": 21,
   "metadata": {
    "collapsed": false
   },
   "outputs": [
    {
     "data": {
      "text/plain": [
       "['Average or\\nGreater than 30',\n",
       " 'CENSUS_REGION__1',\n",
       " 'CENSUS_REGION__2',\n",
       " 'CENSUS_REGION__3',\n",
       " 'CENSUS_REGION__4',\n",
       " 'CENSUS_REGION__5',\n",
       " 'CONTROL_x__1',\n",
       " 'CONTROL_x__2',\n",
       " 'CONTROL_x__3',\n",
       " 'CONTROL_y__1',\n",
       " 'CONTROL_y__2',\n",
       " 'CONTROL_y__3',\n",
       " 'DRate',\n",
       " 'Ethnic Code__1',\n",
       " 'Ethnic Code__2',\n",
       " 'Ethnic Code__3',\n",
       " 'Ethnic Code__5',\n",
       " 'FT_FACULTY_PER_100FTE',\n",
       " 'FT_FACULTY_PER_100FTE_missing',\n",
       " 'GRANT02',\n",
       " 'GRANT02_missing',\n",
       " 'GROFFER',\n",
       " 'HAS_FTE',\n",
       " 'HBCU_x',\n",
       " 'HBCU_y',\n",
       " 'HLOFFER__1',\n",
       " 'HLOFFER__2',\n",
       " 'HLOFFER__3',\n",
       " 'HLOFFER__4',\n",
       " 'HLOFFER__5',\n",
       " 'HLOFFER__6',\n",
       " 'HLOFFER__7',\n",
       " 'HLOFFER__8',\n",
       " 'HLOFFER__9',\n",
       " 'HOSPITAL__-1',\n",
       " 'HOSPITAL__-2',\n",
       " 'HOSPITAL__1',\n",
       " 'HOSPITAL__2',\n",
       " 'HSI',\n",
       " 'ICLEVEL_x__1',\n",
       " 'ICLEVEL_x__2',\n",
       " 'ICLEVEL_x__3',\n",
       " 'ICLEVEL_y__1',\n",
       " 'ICLEVEL_y__2',\n",
       " 'ICLEVEL_y__3',\n",
       " 'INSTCAT__-2',\n",
       " 'INSTCAT__1',\n",
       " 'INSTCAT__2',\n",
       " 'INSTCAT__3',\n",
       " 'INSTCAT__4',\n",
       " 'INSTCAT__5',\n",
       " 'INSTCAT__6',\n",
       " 'INSTNAME',\n",
       " 'INSTSIZE__-2',\n",
       " 'INSTSIZE__1',\n",
       " 'INSTSIZE__2',\n",
       " 'INSTSIZE__3',\n",
       " 'INSTSIZE__4',\n",
       " 'INSTSIZE__5',\n",
       " 'INST_GRANT_AVG_AMOUNT',\n",
       " 'INST_GRANT_AVG_AMOUNT_missing',\n",
       " 'LANDGRNT',\n",
       " 'LOCALE__11',\n",
       " 'LOCALE__12',\n",
       " 'LOCALE__13',\n",
       " 'LOCALE__21',\n",
       " 'LOCALE__22',\n",
       " 'LOCALE__23',\n",
       " 'LOCALE__31',\n",
       " 'LOCALE__32',\n",
       " 'LOCALE__33',\n",
       " 'LOCALE__41',\n",
       " 'LOCALE__42',\n",
       " 'LOCALE__43',\n",
       " 'PSEFLAG',\n",
       " 'Prog\\nLength__1',\n",
       " 'Prog\\nLength__11',\n",
       " 'Prog\\nLength__12',\n",
       " 'Prog\\nLength__2',\n",
       " 'Prog\\nLength__3',\n",
       " 'Prog\\nLength__4',\n",
       " 'Prog\\nLength__5',\n",
       " 'Prog\\nLength__6',\n",
       " 'Prog\\nLength__7',\n",
       " 'Prog\\nLength__8',\n",
       " 'SECTOR_x__0',\n",
       " 'SECTOR_x__1',\n",
       " 'SECTOR_x__2',\n",
       " 'SECTOR_x__3',\n",
       " 'SECTOR_x__4',\n",
       " 'SECTOR_x__5',\n",
       " 'SECTOR_x__6',\n",
       " 'SECTOR_x__7',\n",
       " 'SECTOR_x__8',\n",
       " 'SECTOR_x__9',\n",
       " 'SECTOR_y__0',\n",
       " 'SECTOR_y__1',\n",
       " 'SECTOR_y__2',\n",
       " 'SECTOR_y__3',\n",
       " 'SECTOR_y__4',\n",
       " 'SECTOR_y__5',\n",
       " 'SECTOR_y__6',\n",
       " 'SECTOR_y__7',\n",
       " 'SECTOR_y__8',\n",
       " 'SECTOR_y__9',\n",
       " 'STUDSERV01',\n",
       " 'STUDSERV01_missing',\n",
       " 'School\\nType__1',\n",
       " 'School\\nType__2',\n",
       " 'School\\nType__3',\n",
       " 'TOTAL03_REVENUE',\n",
       " 'TOTAL03_REVENUE_missing',\n",
       " 'TOTALCOMPLETIONS_100FTE',\n",
       " 'TOTALCOMPLETIONS_100FTE_missing',\n",
       " 'TOTAL_ENROLLMENT_ASIAN_TOT',\n",
       " 'TOTAL_ENROLLMENT_ASIAN_TOT_missing',\n",
       " 'TOTAL_ENROLLMENT_BLACK_TOT',\n",
       " 'TOTAL_ENROLLMENT_BLACK_TOT_missing',\n",
       " 'TOTAL_ENROLLMENT_HISP_TOT',\n",
       " 'TOTAL_ENROLLMENT_HISP_TOT_missing',\n",
       " 'TOTAL_ENROLLMENT_WHITE_TOT',\n",
       " 'TOTAL_ENROLLMENT_WHITE_TOT_missing',\n",
       " 'TOTAL_FULL_TIME',\n",
       " 'TOTAL_FULL_TIME_missing',\n",
       " 'UGOFFER',\n",
       " 'UNITID']"
      ]
     },
     "execution_count": 21,
     "metadata": {},
     "output_type": "execute_result"
    }
   ],
   "source": [
    "sorted(test_master.columns.values)"
   ]
  },
  {
   "cell_type": "code",
   "execution_count": null,
   "metadata": {
    "collapsed": true
   },
   "outputs": [],
   "source": []
  }
 ],
 "metadata": {
  "anaconda-cloud": {},
  "kernelspec": {
   "display_name": "Python [conda root]",
   "language": "python",
   "name": "conda-root-py"
  },
  "language_info": {
   "codemirror_mode": {
    "name": "ipython",
    "version": 3
   },
   "file_extension": ".py",
   "mimetype": "text/x-python",
   "name": "python",
   "nbconvert_exporter": "python",
   "pygments_lexer": "ipython3",
   "version": "3.5.2"
  }
 },
 "nbformat": 4,
 "nbformat_minor": 1
}
