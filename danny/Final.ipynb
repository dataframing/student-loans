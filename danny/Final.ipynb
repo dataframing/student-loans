{
 "cells": [
  {
   "cell_type": "code",
   "execution_count": 36,
   "metadata": {
    "collapsed": false
   },
   "outputs": [],
   "source": [
    "%matplotlib inline\n",
    "\n",
    "import pandas as pd\n",
    "import numpy as np\n",
    "import statsmodels.formula.api as smf\n",
    "from sklearn.metrics import mean_squared_error\n",
    "import seaborn as sns\n",
    "import matplotlib.pyplot as plt"
   ]
  },
  {
   "cell_type": "code",
   "execution_count": 18,
   "metadata": {
    "collapsed": false
   },
   "outputs": [
    {
     "data": {
      "text/html": [
       "<table class=\"simpletable\">\n",
       "<caption>OLS Regression Results</caption>\n",
       "<tr>\n",
       "  <th>Dep. Variable:</th>          <td>DRate</td>      <th>  R-squared:         </th> <td>   0.342</td> \n",
       "</tr>\n",
       "<tr>\n",
       "  <th>Model:</th>                   <td>OLS</td>       <th>  Adj. R-squared:    </th> <td>   0.339</td> \n",
       "</tr>\n",
       "<tr>\n",
       "  <th>Method:</th>             <td>Least Squares</td>  <th>  F-statistic:       </th> <td>   156.1</td> \n",
       "</tr>\n",
       "<tr>\n",
       "  <th>Date:</th>             <td>Fri, 09 Dec 2016</td> <th>  Prob (F-statistic):</th>  <td>  0.00</td>  \n",
       "</tr>\n",
       "<tr>\n",
       "  <th>Time:</th>                 <td>16:12:42</td>     <th>  Log-Likelihood:    </th> <td> -14174.</td> \n",
       "</tr>\n",
       "<tr>\n",
       "  <th>No. Observations:</th>      <td>  4227</td>      <th>  AIC:               </th> <td>2.838e+04</td>\n",
       "</tr>\n",
       "<tr>\n",
       "  <th>Df Residuals:</th>          <td>  4212</td>      <th>  BIC:               </th> <td>2.847e+04</td>\n",
       "</tr>\n",
       "<tr>\n",
       "  <th>Df Model:</th>              <td>    14</td>      <th>                     </th>     <td> </td>    \n",
       "</tr>\n",
       "<tr>\n",
       "  <th>Covariance Type:</th>      <td>nonrobust</td>    <th>                     </th>     <td> </td>    \n",
       "</tr>\n",
       "</table>\n",
       "<table class=\"simpletable\">\n",
       "<tr>\n",
       "               <td></td>                 <th>coef</th>     <th>std err</th>      <th>t</th>      <th>P>|t|</th> <th>[95.0% Conf. Int.]</th> \n",
       "</tr>\n",
       "<tr>\n",
       "  <th>Intercept</th>                  <td>   35.0475</td> <td>    1.779</td> <td>   19.702</td> <td> 0.000</td> <td>   31.560    38.535</td>\n",
       "</tr>\n",
       "<tr>\n",
       "  <th>ICLEVEL_y__1</th>               <td>   -9.5126</td> <td>    0.254</td> <td>  -37.502</td> <td> 0.000</td> <td>  -10.010    -9.015</td>\n",
       "</tr>\n",
       "<tr>\n",
       "  <th>TOTALCOMPLETIONS_100FTE</th>    <td>   -0.0119</td> <td>    0.003</td> <td>   -4.421</td> <td> 0.000</td> <td>   -0.017    -0.007</td>\n",
       "</tr>\n",
       "<tr>\n",
       "  <th>TOTAL_ENROLLMENT_BLACK_TOT</th> <td>    0.0002</td> <td> 9.65e-05</td> <td>    1.869</td> <td> 0.062</td> <td>-8.82e-06     0.000</td>\n",
       "</tr>\n",
       "<tr>\n",
       "  <th>TOTAL03_REVENUE</th>            <td>-1.475e-09</td> <td> 3.51e-10</td> <td>   -4.205</td> <td> 0.000</td> <td>-2.16e-09 -7.87e-10</td>\n",
       "</tr>\n",
       "<tr>\n",
       "  <th>TOTAL_ENROLLMENT_WHITE_TOT</th> <td>    0.0001</td> <td> 4.92e-05</td> <td>    2.962</td> <td> 0.003</td> <td> 4.93e-05     0.000</td>\n",
       "</tr>\n",
       "<tr>\n",
       "  <th>STUDSERV01</th>                 <td> 1.201e-08</td> <td>  1.2e-08</td> <td>    1.001</td> <td> 0.317</td> <td>-1.15e-08  3.55e-08</td>\n",
       "</tr>\n",
       "<tr>\n",
       "  <th>TOTAL_FULL_TIME</th>            <td>-7.422e-05</td> <td>  5.6e-05</td> <td>   -1.326</td> <td> 0.185</td> <td>   -0.000  3.55e-05</td>\n",
       "</tr>\n",
       "<tr>\n",
       "  <th>TOTAL_ENROLLMENT_ASIAN_TOT</th> <td>   -0.0002</td> <td>    0.000</td> <td>   -1.350</td> <td> 0.177</td> <td>   -0.000  9.19e-05</td>\n",
       "</tr>\n",
       "<tr>\n",
       "  <th>TOTAL_ENROLLMENT_HISP_TOT</th>  <td> 5.134e-05</td> <td> 6.28e-05</td> <td>    0.817</td> <td> 0.414</td> <td>-7.18e-05     0.000</td>\n",
       "</tr>\n",
       "<tr>\n",
       "  <th>INSTCAT__3</th>                 <td>    7.1029</td> <td>    0.529</td> <td>   13.438</td> <td> 0.000</td> <td>    6.067     8.139</td>\n",
       "</tr>\n",
       "<tr>\n",
       "  <th>HBCU_y</th>                     <td>   -7.0712</td> <td>    1.075</td> <td>   -6.581</td> <td> 0.000</td> <td>   -9.178    -4.965</td>\n",
       "</tr>\n",
       "<tr>\n",
       "  <th>Ethnic_Code__5</th>             <td>   -3.9213</td> <td>    0.719</td> <td>   -5.455</td> <td> 0.000</td> <td>   -5.331    -2.512</td>\n",
       "</tr>\n",
       "<tr>\n",
       "  <th>CENSUS_REGION__3</th>           <td>    1.0952</td> <td>    0.255</td> <td>    4.291</td> <td> 0.000</td> <td>    0.595     1.596</td>\n",
       "</tr>\n",
       "<tr>\n",
       "  <th>CENSUS_REGION__1</th>           <td>   -2.0002</td> <td>    0.279</td> <td>   -7.156</td> <td> 0.000</td> <td>   -2.548    -1.452</td>\n",
       "</tr>\n",
       "</table>\n",
       "<table class=\"simpletable\">\n",
       "<tr>\n",
       "  <th>Omnibus:</th>       <td>431.760</td> <th>  Durbin-Watson:     </th> <td>   1.919</td> \n",
       "</tr>\n",
       "<tr>\n",
       "  <th>Prob(Omnibus):</th> <td> 0.000</td>  <th>  Jarque-Bera (JB):  </th> <td>1228.332</td> \n",
       "</tr>\n",
       "<tr>\n",
       "  <th>Skew:</th>          <td> 0.554</td>  <th>  Prob(JB):          </th> <td>1.87e-267</td>\n",
       "</tr>\n",
       "<tr>\n",
       "  <th>Kurtosis:</th>      <td> 5.398</td>  <th>  Cond. No.          </th> <td>9.76e+09</td> \n",
       "</tr>\n",
       "</table>"
      ],
      "text/plain": [
       "<class 'statsmodels.iolib.summary.Summary'>\n",
       "\"\"\"\n",
       "                            OLS Regression Results                            \n",
       "==============================================================================\n",
       "Dep. Variable:                  DRate   R-squared:                       0.342\n",
       "Model:                            OLS   Adj. R-squared:                  0.339\n",
       "Method:                 Least Squares   F-statistic:                     156.1\n",
       "Date:                Fri, 09 Dec 2016   Prob (F-statistic):               0.00\n",
       "Time:                        16:12:42   Log-Likelihood:                -14174.\n",
       "No. Observations:                4227   AIC:                         2.838e+04\n",
       "Df Residuals:                    4212   BIC:                         2.847e+04\n",
       "Df Model:                          14                                         \n",
       "Covariance Type:            nonrobust                                         \n",
       "==============================================================================================\n",
       "                                 coef    std err          t      P>|t|      [95.0% Conf. Int.]\n",
       "----------------------------------------------------------------------------------------------\n",
       "Intercept                     35.0475      1.779     19.702      0.000        31.560    38.535\n",
       "ICLEVEL_y__1                  -9.5126      0.254    -37.502      0.000       -10.010    -9.015\n",
       "TOTALCOMPLETIONS_100FTE       -0.0119      0.003     -4.421      0.000        -0.017    -0.007\n",
       "TOTAL_ENROLLMENT_BLACK_TOT     0.0002   9.65e-05      1.869      0.062     -8.82e-06     0.000\n",
       "TOTAL03_REVENUE            -1.475e-09   3.51e-10     -4.205      0.000     -2.16e-09 -7.87e-10\n",
       "TOTAL_ENROLLMENT_WHITE_TOT     0.0001   4.92e-05      2.962      0.003      4.93e-05     0.000\n",
       "STUDSERV01                  1.201e-08    1.2e-08      1.001      0.317     -1.15e-08  3.55e-08\n",
       "TOTAL_FULL_TIME            -7.422e-05    5.6e-05     -1.326      0.185        -0.000  3.55e-05\n",
       "TOTAL_ENROLLMENT_ASIAN_TOT    -0.0002      0.000     -1.350      0.177        -0.000  9.19e-05\n",
       "TOTAL_ENROLLMENT_HISP_TOT   5.134e-05   6.28e-05      0.817      0.414     -7.18e-05     0.000\n",
       "INSTCAT__3                     7.1029      0.529     13.438      0.000         6.067     8.139\n",
       "HBCU_y                        -7.0712      1.075     -6.581      0.000        -9.178    -4.965\n",
       "Ethnic_Code__5                -3.9213      0.719     -5.455      0.000        -5.331    -2.512\n",
       "CENSUS_REGION__3               1.0952      0.255      4.291      0.000         0.595     1.596\n",
       "CENSUS_REGION__1              -2.0002      0.279     -7.156      0.000        -2.548    -1.452\n",
       "==============================================================================\n",
       "Omnibus:                      431.760   Durbin-Watson:                   1.919\n",
       "Prob(Omnibus):                  0.000   Jarque-Bera (JB):             1228.332\n",
       "Skew:                           0.554   Prob(JB):                    1.87e-267\n",
       "Kurtosis:                       5.398   Cond. No.                     9.76e+09\n",
       "==============================================================================\n",
       "\n",
       "Warnings:\n",
       "[1] Standard Errors assume that the covariance matrix of the errors is correctly specified.\n",
       "[2] The condition number is large, 9.76e+09. This might indicate that there are\n",
       "strong multicollinearity or other numerical problems.\n",
       "\"\"\""
      ]
     },
     "execution_count": 18,
     "metadata": {},
     "output_type": "execute_result"
    }
   ],
   "source": [
    "# Reading in Training set from 2011\n",
    "data_2011 = pd.read_csv('../data/train_master_imputed_dummified.csv')\n",
    "\n",
    "# Note: The index was copied into a column for some reason? \n",
    "# ALSO! We still have DRate Transformed... So I am dropping that too!\n",
    "data_2011 = data_2011.drop('Unnamed: 0', axis=1)\n",
    "data_2011 = data_2011.drop('DRate_Transformed', axis=1)\n",
    "\n",
    "# Setting INSTNAME to index and dropping the UNITID (we can use this later if we want)\n",
    "data_2011 = data_2011.set_index('INSTNAME')\n",
    "data_2011 = data_2011.drop('UNITID', axis=1)\n",
    "\n",
    "data_2011.columns = [column.replace(' ', '_') for column in data_2011.columns]\n",
    "\n",
    "data_2011 = data_2011.drop(['GROFFER', 'Prog\\nLength__8', 'ICLEVEL_x__1'], axis=1)\n",
    "\n",
    "train_features = \"ICLEVEL_y__1 + TOTALCOMPLETIONS_100FTE + TOTAL_ENROLLMENT_BLACK_TOT + TOTAL03_REVENUE + TOTAL_ENROLLMENT_WHITE_TOT + STUDSERV01 + TOTAL_FULL_TIME + TOTAL_ENROLLMENT_ASIAN_TOT + TOTAL_ENROLLMENT_HISP_TOT + INSTCAT__3 + HBCU_y + Ethnic_Code__5 + CENSUS_REGION__3 + CENSUS_REGION__1\"\n",
    "lm = smf.ols(formula='DRate ~ ' + train_features, data=data_2011).fit()\n",
    "\n",
    "lm.summary()"
   ]
  },
  {
   "cell_type": "code",
   "execution_count": 20,
   "metadata": {
    "collapsed": false
   },
   "outputs": [
    {
     "data": {
      "text/plain": [
       "6.9187815737197012"
      ]
     },
     "execution_count": 20,
     "metadata": {},
     "output_type": "execute_result"
    }
   ],
   "source": [
    "lm_RMSE = mean_squared_error(data_2011['DRate'], lm.fittedvalues) ** 0.5\n",
    "lm_RMSE"
   ]
  },
  {
   "cell_type": "code",
   "execution_count": 21,
   "metadata": {
    "collapsed": true
   },
   "outputs": [],
   "source": [
    "data_2012 = pd.read_csv('../data/test_master_imputed_dummified.csv')\n",
    "data_2012.columns = [column.replace(' ', '_') for column in data_2012.columns]"
   ]
  },
  {
   "cell_type": "code",
   "execution_count": 24,
   "metadata": {
    "collapsed": false
   },
   "outputs": [],
   "source": [
    "pandas_features = train_features.split(' + ')\n",
    "\n",
    "lm_predictions = lm.predict(data_2012[pandas_features])"
   ]
  },
  {
   "cell_type": "code",
   "execution_count": 25,
   "metadata": {
    "collapsed": false
   },
   "outputs": [
    {
     "data": {
      "text/plain": [
       "6.5203009031565111"
      ]
     },
     "execution_count": 25,
     "metadata": {},
     "output_type": "execute_result"
    }
   ],
   "source": [
    "lm_RMSE = mean_squared_error(data_2012['DRate'], lm_predictions) ** 0.5\n",
    "lm_RMSE"
   ]
  },
  {
   "cell_type": "code",
   "execution_count": 34,
   "metadata": {
    "collapsed": false
   },
   "outputs": [
    {
     "name": "stderr",
     "output_type": "stream",
     "text": [
      "/Users/danny/miniconda3/lib/python3.5/site-packages/statsmodels/nonparametric/kdetools.py:20: VisibleDeprecationWarning: using a non-integer number instead of an integer will result in an error in the future\n",
      "  y = X[:m/2+1] + np.r_[0,X[m/2+1:],0]*1j\n"
     ]
    },
    {
     "data": {
      "image/png": "[encoded data removed]",
      "text/plain": [
       "<matplotlib.figure.Figure at 0x10b2ca898>"
      ]
     },
     "metadata": {},
     "output_type": "display_data"
    }
   ],
   "source": [
    "ax = plt.axes()\n",
    "ax.set_title(\"KDE for Default Rate\")\n",
    "kde = sns.kdeplot(data_2012['DRate'], bw = 0.4)\n",
    "fig = kde.get_figure()\n",
    "# fig.savefig(\"kde_plot.png\")"
   ]
  },
  {
   "cell_type": "code",
   "execution_count": 39,
   "metadata": {
    "collapsed": false
   },
   "outputs": [
    {
     "name": "stdout",
     "output_type": "stream",
     "text": [
      "11.3 9.9\n"
     ]
    }
   ],
   "source": [
    "med_2012 = np.median(data_2012['DRate'])\n",
    "med_2011 = np.median(data_2011['DRate'])\n",
    "print(med_2011, med_2012)"
   ]
  },
  {
   "cell_type": "code",
   "execution_count": 40,
   "metadata": {
    "collapsed": false
   },
   "outputs": [
    {
     "data": {
      "text/html": [
       "<table class=\"simpletable\">\n",
       "<caption>OLS Regression Results</caption>\n",
       "<tr>\n",
       "  <th>Dep. Variable:</th>          <td>DRate</td>      <th>  R-squared:         </th> <td>   0.367</td> \n",
       "</tr>\n",
       "<tr>\n",
       "  <th>Model:</th>                   <td>OLS</td>       <th>  Adj. R-squared:    </th> <td>   0.365</td> \n",
       "</tr>\n",
       "<tr>\n",
       "  <th>Method:</th>             <td>Least Squares</td>  <th>  F-statistic:       </th> <td>   177.6</td> \n",
       "</tr>\n",
       "<tr>\n",
       "  <th>Date:</th>             <td>Fri, 09 Dec 2016</td> <th>  Prob (F-statistic):</th>  <td>  0.00</td>  \n",
       "</tr>\n",
       "<tr>\n",
       "  <th>Time:</th>                 <td>16:26:07</td>     <th>  Log-Likelihood:    </th> <td> -14079.</td> \n",
       "</tr>\n",
       "<tr>\n",
       "  <th>No. Observations:</th>      <td>  4309</td>      <th>  AIC:               </th> <td>2.819e+04</td>\n",
       "</tr>\n",
       "<tr>\n",
       "  <th>Df Residuals:</th>          <td>  4294</td>      <th>  BIC:               </th> <td>2.828e+04</td>\n",
       "</tr>\n",
       "<tr>\n",
       "  <th>Df Model:</th>              <td>    14</td>      <th>                     </th>     <td> </td>    \n",
       "</tr>\n",
       "<tr>\n",
       "  <th>Covariance Type:</th>      <td>nonrobust</td>    <th>                     </th>     <td> </td>    \n",
       "</tr>\n",
       "</table>\n",
       "<table class=\"simpletable\">\n",
       "<tr>\n",
       "               <td></td>                 <th>coef</th>     <th>std err</th>      <th>t</th>      <th>P>|t|</th> <th>[95.0% Conf. Int.]</th> \n",
       "</tr>\n",
       "<tr>\n",
       "  <th>Intercept</th>                  <td>   30.6890</td> <td>    1.623</td> <td>   18.909</td> <td> 0.000</td> <td>   27.507    33.871</td>\n",
       "</tr>\n",
       "<tr>\n",
       "  <th>ICLEVEL_y__1</th>               <td>   -9.1155</td> <td>    0.234</td> <td>  -38.983</td> <td> 0.000</td> <td>   -9.574    -8.657</td>\n",
       "</tr>\n",
       "<tr>\n",
       "  <th>TOTALCOMPLETIONS_100FTE</th>    <td>   -0.0173</td> <td>    0.002</td> <td>   -7.182</td> <td> 0.000</td> <td>   -0.022    -0.013</td>\n",
       "</tr>\n",
       "<tr>\n",
       "  <th>TOTAL_ENROLLMENT_BLACK_TOT</th> <td>    0.0003</td> <td>  8.4e-05</td> <td>    3.624</td> <td> 0.000</td> <td>    0.000     0.000</td>\n",
       "</tr>\n",
       "<tr>\n",
       "  <th>TOTAL03_REVENUE</th>            <td>-1.064e-09</td> <td> 4.07e-10</td> <td>   -2.618</td> <td> 0.009</td> <td>-1.86e-09 -2.67e-10</td>\n",
       "</tr>\n",
       "<tr>\n",
       "  <th>TOTAL_ENROLLMENT_WHITE_TOT</th> <td>    0.0002</td> <td> 4.41e-05</td> <td>    4.498</td> <td> 0.000</td> <td>    0.000     0.000</td>\n",
       "</tr>\n",
       "<tr>\n",
       "  <th>STUDSERV01</th>                 <td>-8.936e-09</td> <td> 1.17e-08</td> <td>   -0.762</td> <td> 0.446</td> <td>-3.19e-08  1.41e-08</td>\n",
       "</tr>\n",
       "<tr>\n",
       "  <th>TOTAL_FULL_TIME</th>            <td>   -0.0001</td> <td> 5.05e-05</td> <td>   -2.653</td> <td> 0.008</td> <td>   -0.000  -3.5e-05</td>\n",
       "</tr>\n",
       "<tr>\n",
       "  <th>TOTAL_ENROLLMENT_ASIAN_TOT</th> <td>   -0.0002</td> <td>    0.000</td> <td>   -1.161</td> <td> 0.246</td> <td>   -0.000     0.000</td>\n",
       "</tr>\n",
       "<tr>\n",
       "  <th>TOTAL_ENROLLMENT_HISP_TOT</th>  <td> 6.905e-05</td> <td> 5.57e-05</td> <td>    1.239</td> <td> 0.215</td> <td>-4.02e-05     0.000</td>\n",
       "</tr>\n",
       "<tr>\n",
       "  <th>INSTCAT__3</th>                 <td>    6.1310</td> <td>    0.464</td> <td>   13.199</td> <td> 0.000</td> <td>    5.220     7.042</td>\n",
       "</tr>\n",
       "<tr>\n",
       "  <th>HBCU_y</th>                     <td>   -5.6916</td> <td>    0.982</td> <td>   -5.798</td> <td> 0.000</td> <td>   -7.616    -3.767</td>\n",
       "</tr>\n",
       "<tr>\n",
       "  <th>Ethnic_Code__5</th>             <td>   -3.6906</td> <td>    0.660</td> <td>   -5.594</td> <td> 0.000</td> <td>   -4.984    -2.397</td>\n",
       "</tr>\n",
       "<tr>\n",
       "  <th>CENSUS_REGION__3</th>           <td>    1.7024</td> <td>    0.232</td> <td>    7.346</td> <td> 0.000</td> <td>    1.248     2.157</td>\n",
       "</tr>\n",
       "<tr>\n",
       "  <th>CENSUS_REGION__1</th>           <td>   -1.9960</td> <td>    0.254</td> <td>   -7.849</td> <td> 0.000</td> <td>   -2.495    -1.497</td>\n",
       "</tr>\n",
       "</table>\n",
       "<table class=\"simpletable\">\n",
       "<tr>\n",
       "  <th>Omnibus:</th>       <td>1117.305</td> <th>  Durbin-Watson:     </th> <td>   1.906</td>\n",
       "</tr>\n",
       "<tr>\n",
       "  <th>Prob(Omnibus):</th>  <td> 0.000</td>  <th>  Jarque-Bera (JB):  </th> <td>5837.829</td>\n",
       "</tr>\n",
       "<tr>\n",
       "  <th>Skew:</th>           <td> 1.141</td>  <th>  Prob(JB):          </th> <td>    0.00</td>\n",
       "</tr>\n",
       "<tr>\n",
       "  <th>Kurtosis:</th>       <td> 8.226</td>  <th>  Cond. No.          </th> <td>8.35e+09</td>\n",
       "</tr>\n",
       "</table>"
      ],
      "text/plain": [
       "<class 'statsmodels.iolib.summary.Summary'>\n",
       "\"\"\"\n",
       "                            OLS Regression Results                            \n",
       "==============================================================================\n",
       "Dep. Variable:                  DRate   R-squared:                       0.367\n",
       "Model:                            OLS   Adj. R-squared:                  0.365\n",
       "Method:                 Least Squares   F-statistic:                     177.6\n",
       "Date:                Fri, 09 Dec 2016   Prob (F-statistic):               0.00\n",
       "Time:                        16:26:07   Log-Likelihood:                -14079.\n",
       "No. Observations:                4309   AIC:                         2.819e+04\n",
       "Df Residuals:                    4294   BIC:                         2.828e+04\n",
       "Df Model:                          14                                         \n",
       "Covariance Type:            nonrobust                                         \n",
       "==============================================================================================\n",
       "                                 coef    std err          t      P>|t|      [95.0% Conf. Int.]\n",
       "----------------------------------------------------------------------------------------------\n",
       "Intercept                     30.6890      1.623     18.909      0.000        27.507    33.871\n",
       "ICLEVEL_y__1                  -9.1155      0.234    -38.983      0.000        -9.574    -8.657\n",
       "TOTALCOMPLETIONS_100FTE       -0.0173      0.002     -7.182      0.000        -0.022    -0.013\n",
       "TOTAL_ENROLLMENT_BLACK_TOT     0.0003    8.4e-05      3.624      0.000         0.000     0.000\n",
       "TOTAL03_REVENUE            -1.064e-09   4.07e-10     -2.618      0.009     -1.86e-09 -2.67e-10\n",
       "TOTAL_ENROLLMENT_WHITE_TOT     0.0002   4.41e-05      4.498      0.000         0.000     0.000\n",
       "STUDSERV01                 -8.936e-09   1.17e-08     -0.762      0.446     -3.19e-08  1.41e-08\n",
       "TOTAL_FULL_TIME               -0.0001   5.05e-05     -2.653      0.008        -0.000  -3.5e-05\n",
       "TOTAL_ENROLLMENT_ASIAN_TOT    -0.0002      0.000     -1.161      0.246        -0.000     0.000\n",
       "TOTAL_ENROLLMENT_HISP_TOT   6.905e-05   5.57e-05      1.239      0.215     -4.02e-05     0.000\n",
       "INSTCAT__3                     6.1310      0.464     13.199      0.000         5.220     7.042\n",
       "HBCU_y                        -5.6916      0.982     -5.798      0.000        -7.616    -3.767\n",
       "Ethnic_Code__5                -3.6906      0.660     -5.594      0.000        -4.984    -2.397\n",
       "CENSUS_REGION__3               1.7024      0.232      7.346      0.000         1.248     2.157\n",
       "CENSUS_REGION__1              -1.9960      0.254     -7.849      0.000        -2.495    -1.497\n",
       "==============================================================================\n",
       "Omnibus:                     1117.305   Durbin-Watson:                   1.906\n",
       "Prob(Omnibus):                  0.000   Jarque-Bera (JB):             5837.829\n",
       "Skew:                           1.141   Prob(JB):                         0.00\n",
       "Kurtosis:                       8.226   Cond. No.                     8.35e+09\n",
       "==============================================================================\n",
       "\n",
       "Warnings:\n",
       "[1] Standard Errors assume that the covariance matrix of the errors is correctly specified.\n",
       "[2] The condition number is large, 8.35e+09. This might indicate that there are\n",
       "strong multicollinearity or other numerical problems.\n",
       "\"\"\""
      ]
     },
     "execution_count": 40,
     "metadata": {},
     "output_type": "execute_result"
    }
   ],
   "source": [
    "lm = smf.ols(formula='DRate ~ ' + train_features, data=data_2012).fit()\n",
    "lm.summary()"
   ]
  },
  {
   "cell_type": "code",
   "execution_count": 41,
   "metadata": {
    "collapsed": true
   },
   "outputs": [],
   "source": [
    "lm_RMSE_2012 = mean_squared_error(data_2012['DRate'], lm.fittedvalues) ** 0.5"
   ]
  },
  {
   "cell_type": "code",
   "execution_count": 42,
   "metadata": {
    "collapsed": false
   },
   "outputs": [
    {
     "data": {
      "text/plain": [
       "6.3498529027363899"
      ]
     },
     "execution_count": 42,
     "metadata": {},
     "output_type": "execute_result"
    }
   ],
   "source": [
    "lm_RMSE_2012"
   ]
  },
  {
   "cell_type": "code",
   "execution_count": null,
   "metadata": {
    "collapsed": true
   },
   "outputs": [],
   "source": []
  }
 ],
 "metadata": {
  "anaconda-cloud": {},
  "kernelspec": {
   "display_name": "Python [conda root]",
   "language": "python",
   "name": "conda-root-py"
  },
  "language_info": {
   "codemirror_mode": {
    "name": "ipython",
    "version": 3
   },
   "file_extension": ".py",
   "mimetype": "text/x-python",
   "name": "python",
   "nbconvert_exporter": "python",
   "pygments_lexer": "ipython3",
   "version": "3.5.2"
  }
 },
 "nbformat": 4,
 "nbformat_minor": 1
}
