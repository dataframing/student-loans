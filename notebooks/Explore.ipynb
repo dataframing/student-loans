{
 "cells": [
  {
   "cell_type": "code",
   "execution_count": null,
   "metadata": {
    "collapsed": true
   },
   "outputs": [],
   "source": [
    "%matplotlib inline\n",
    "\n",
    "import matplotlib\n",
    "import numpy as np\n",
    "import pandas as pd\n",
    "import matplotlib.pyplot as plt\n",
    "from pprint import pprint\n",
    "\n",
    "joined = pd.read_csv(\"../data/peps_to_post.csv\")"
   ]
  },
  {
   "cell_type": "code",
   "execution_count": null,
   "metadata": {
    "collapsed": false
   },
   "outputs": [],
   "source": [
    "from sklearn import tree\n",
    "\n",
    "target = 'DRate_Transformed'\n",
    "\n",
    "# Isolate training and testing data frames on 80/20 split\n",
    "train_df = joined.sample(frac = 0.80, replace = False)\n",
    "test_df = joined.drop(train_df.index)\n",
    "\n",
    "# Split each into training and testing data frames\n",
    "train_X, train_y = train_df.drop(target, axis = 1), train_df[target]\n",
    "test_X, test_y = test_df.drop(target, axis = 1), test_df[target]\n",
    "\n",
    "# Initialize classifier.\n",
    "classifier = tree.DecisionTreeClassifier(criterion = 'entropy')\n",
    "classifier = classifier.fit(train_X, train_y)"
   ]
  },
  {
   "cell_type": "code",
   "execution_count": null,
   "metadata": {
    "collapsed": false
   },
   "outputs": [],
   "source": [
    "# Sort our classifier's feature importance vector\n",
    "indices = np.argsort(classifier.feature_importances_)[::-1]\n",
    "\n",
    "# Plot our features in order of importance to our decision tree classifier\n",
    "fig, ax = plt.subplots()\n",
    "width = 0.7\n",
    "ax.bar(0.4 + np.arange(len(classifier.feature_importances_)), sorted(classifier.feature_importances_, reverse = True), width, color = 'r')\n",
    "ax.set_xticks(0.75 + np.arange(len(classifier.feature_importances_)))\n",
    "ax.set_xticklabels([train_X.columns[i] for i in indices], rotation = 90)\n",
    "plt.title('Feature Importance from DT')\n",
    "plt.savefig(\"feature_importance.png\", bbox_inches = 'tight')"
   ]
  },
  {
   "cell_type": "code",
   "execution_count": null,
   "metadata": {
    "collapsed": false
   },
   "outputs": [],
   "source": [
    "# Predict churndep on both the train_df and test_df datasets\n",
    "test_accuracy = classifier.score(test_X, test_y)\n",
    "train_accuracy = classifier.score(train_X, train_y)\n",
    "\n",
    "print(\"Prediction accuracy on testing dataset: {:>.4}%\".format(test_accuracy * 100))\n",
    "print(\"Prediction accuracy on training dataset: {:>.4}%\".format(train_accuracy * 100))\n",
    "\n",
    "classifier.score"
   ]
  },
  {
   "cell_type": "code",
   "execution_count": null,
   "metadata": {
    "collapsed": false
   },
   "outputs": [],
   "source": [
    "########## NOTE ##########\n",
    "# This won't work because we have NaN values in our master dataset.\n",
    "# Please see Data-Processing.ipynb for the details.\n",
    "\n",
    "master = pd.read_csv(\"../data/master.csv\")\n",
    "\n",
    "target = 'DRate_Transformed'\n",
    "\n",
    "# Isolate training and testing data frames on 80/20 split\n",
    "train_df = master.sample(frac = 0.80, replace = False)\n",
    "test_df = master.drop(train_df.index)\n",
    "\n",
    "# Split each into training and testing data frames\n",
    "train_X, train_y = train_df.drop(target, axis = 1), train_df[target]\n",
    "test_X, test_y = test_df.drop(target, axis = 1), test_df[target]\n",
    "\n",
    "# Initialize classifier.\n",
    "classifier = tree.DecisionTreeClassifier(criterion = 'entropy')\n",
    "classifier = classifier.fit(train_X, train_y)"
   ]
  },
  {
   "cell_type": "code",
   "execution_count": null,
   "metadata": {
    "collapsed": false
   },
   "outputs": [],
   "source": [
    "# Sort our classifier's feature importance vector\n",
    "indices = np.argsort(classifier.feature_importances_)[::-1]\n",
    "\n",
    "# Plot our features in order of importance to our decision tree classifier\n",
    "fig, ax = plt.subplots()\n",
    "width = 0.7\n",
    "ax.bar(0.4 + np.arange(len(classifier.feature_importances_)), sorted(classifier.feature_importances_, reverse = True), width, color = 'r')\n",
    "ax.set_xticks(0.75 + np.arange(len(classifier.feature_importances_)))\n",
    "ax.set_xticklabels([train_X.columns[i] for i in indices], rotation = 90)\n",
    "plt.title('Feature Importance from DT')\n",
    "plt.savefig(\"feature_importance.png\", bbox_inches = 'tight')"
   ]
  },
  {
   "cell_type": "code",
   "execution_count": null,
   "metadata": {
    "collapsed": true
   },
   "outputs": [],
   "source": []
  }
 ],
 "metadata": {
  "anaconda-cloud": {},
  "kernelspec": {
   "display_name": "Python [conda root]",
   "language": "python",
   "name": "conda-root-py"
  },
  "language_info": {
   "codemirror_mode": {
    "name": "ipython",
    "version": 3
   },
   "file_extension": ".py",
   "mimetype": "text/x-python",
   "name": "python",
   "nbconvert_exporter": "python",
   "pygments_lexer": "ipython3",
   "version": "3.5.2"
  }
 },
 "nbformat": 4,
 "nbformat_minor": 1
}
