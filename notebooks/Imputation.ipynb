{
 "cells": [
  {
   "cell_type": "code",
   "execution_count": 1,
   "metadata": {
    "collapsed": true
   },
   "outputs": [],
   "source": [
    "%matplotlib inline\n",
    "\n",
    "import matplotlib\n",
    "import numpy as np\n",
    "import pandas as pd\n",
    "import matplotlib.pyplot as plt\n",
    "from pprint import pprint\n",
    "import seaborn as sns"
   ]
  },
  {
   "cell_type": "code",
   "execution_count": 46,
   "metadata": {
    "collapsed": true
   },
   "outputs": [],
   "source": [
    "master = pd.read_csv(\"../data/master.csv\")\n",
    "master = master.drop('ENDOWMENT03', axis=1)"
   ]
  },
  {
   "cell_type": "code",
   "execution_count": 47,
   "metadata": {
    "collapsed": false
   },
   "outputs": [
    {
     "data": {
      "image/png": "[encoded data removed]",
      "text/plain": [
       "<matplotlib.figure.Figure at 0x10e89f5c0>"
      ]
     },
     "metadata": {},
     "output_type": "display_data"
    }
   ],
   "source": [
    "nans = pd.isnull(master)\n",
    "nans_copy = pd.isnull(master)\n",
    "\n",
    "from collections import Counter\n",
    "\n",
    "university_nans = Counter()\n",
    "column_count_nans = Counter()\n",
    "\n",
    "for index, row in zip(nans_copy.index, nans_copy.values):\n",
    "    row_data = dict(zip(nans_copy.columns.values, row))\n",
    "    for column, value in row_data.items():\n",
    "        if value:\n",
    "            university_nans[index] += 1\n",
    "            column_count_nans[column] += 1\n",
    "            \n",
    "# A good number of our institutions have between 0 and 10 NaN values.\n",
    "university_nan_dist = pd.DataFrame.from_dict(university_nans, orient='index').reset_index()\n",
    "university_nan_dist = university_nan_dist.rename(columns={'index':'event', 0:'count'})\n",
    "plt.hist(university_nan_dist['count'])\n",
    "\n",
    "# Feature to NaN DataFrame\n",
    "column_nan_dist = pd.DataFrame.from_dict(column_count_nans, orient='index').reset_index()\n",
    "column_nan_dist = column_nan_dist.rename(columns={'index':'event', 0:'count'})\n",
    "column_nan_dist['count'] = column_nan_dist['count'].astype(int)"
   ]
  },
  {
   "cell_type": "code",
   "execution_count": 55,
   "metadata": {
    "collapsed": false
   },
   "outputs": [
    {
     "name": "stdout",
     "output_type": "stream",
     "text": [
      "{'ACADSUPP01': (2.5303419360838744, 3.4402916645325989),\n",
      " 'CERTIFICATES_AWARDS_100FTE': (-5.0961789305477616, -4.1897870572708555),\n",
      " 'FED_GRANT_PCT': (-8.3490892533184997, -7.3818848886231789),\n",
      " 'FT_FACULTY_PER_100FTE': (-2.767175919857924, -0.03375633457421312),\n",
      " 'FT_FIRST_TIME_FIRST_YR_DEG_SEEK': (-8.3289256659697202, -7.377108316145037),\n",
      " 'GRANT01': (-8.2559830511330823, -6.9233030715492667),\n",
      " 'GRANT02': (-0.4041207642315563, 0.64608561166785639),\n",
      " 'GRANT07': (-6.7068444913146852, -2.8702504025999804),\n",
      " 'INSTITUTIONAL_GRANT_AID_SHARE': (2.6150183073209754, 3.5739226117335376),\n",
      " 'INST_GRANT_AVG_AMOUNT': (-0.89134100641792346, 0.084720696926640526),\n",
      " 'INST_GRANT_PCT': (-8.3490892533184997, -7.3818848886231789),\n",
      " 'LOAN_AVG_AMOUNT': (-7.585772115806197, -6.314193280813635),\n",
      " 'LOAN_PCT': (-8.3490892533184997, -7.3818848886231789),\n",
      " 'NETTUITION01': (-7.7243345543648081, -0.15345867697501436),\n",
      " 'NETTUITION_SHARE': (-7.0170814760864255, -0.0058133661453014795),\n",
      " 'NET_STUDENT_TUITION': (-7.7243345543648081, -0.15345867697501436),\n",
      " 'PRIV_INVEST_ENDOW': (2.4287514834525665, 3.4094456968905384),\n",
      " 'PT_FACULTY_PER_100FTE': (1.4538166541015727, 3.1133840289067471),\n",
      " 'RESTRICTED_REVENUE': (1.4996523342361461, 3.2936275109186961),\n",
      " 'SALARYTOTAL': (1.5782429887737282, 2.5562614974485696),\n",
      " 'STICKER_PRICE_SHARE': (-7.0170814760864255, -0.0058133661453014795),\n",
      " 'STUDSERV01': (-1.183158696514456, 0.70313986493697067),\n",
      " 'TOTAL03_REVENUE': (-26.942194097750832, 10.27491043278091),\n",
      " 'TOTALCOMPLETIONS_100FTE': (-6.1963515748083147, 0.13955078227833306),\n",
      " 'TOTALDEGREES_100FTE': (1.9721879188262377, 2.957686079527948),\n",
      " 'TOTAL_ENROLLMENT_ASIAN_TOT': (-6.1963515748083147, 0.13955078227833306),\n",
      " 'TOTAL_ENROLLMENT_BLACK_TOT': (-6.1963515748083147, 0.13955078227833306),\n",
      " 'TOTAL_ENROLLMENT_HISP_TOT': (-6.1963515748083147, 0.13955078227833306),\n",
      " 'TOTAL_ENROLLMENT_WHITE_TOT': (-6.1963515748083147, 0.13955078227833306),\n",
      " 'TOTAL_FULL_TIME': (-4.7178285299550797, -0.80608040243188261),\n",
      " 'TUITIONFEE02_TF': (0.73313265546520989, 1.6892412012919693),\n",
      " 'TUITION_DISCOUNT': (2.6150183073209754, 3.5739226117335376)}\n"
     ]
    }
   ],
   "source": [
    "import statsmodels.stats.api as sms\n",
    "\n",
    "conf_interval = {feature: 0 for feature in column_nan_dist['event']}\n",
    "\n",
    "for feature in conf_interval.keys():\n",
    "    valid, invalid = master[master[feature].notnull()], master[master[feature].isnull()]\n",
    "    valid, invalid = valid['DRate 1'], invalid['DRate 1']\n",
    "    \n",
    "    cm = sms.CompareMeans(sms.DescrStatsW(invalid), sms.DescrStatsW(valid))\n",
    "    conf_interval[feature] = cm.tconfint_diff(usevar='unequal')\n",
    "    \n",
    "pprint(conf_interval)"
   ]
  },
  {
   "cell_type": "code",
   "execution_count": 62,
   "metadata": {
    "collapsed": false
   },
   "outputs": [
    {
     "name": "stdout",
     "output_type": "stream",
     "text": [
      "9 23\n"
     ]
    }
   ],
   "source": [
    "imputable = \"\"\"\n",
    "GRANT02\n",
    "INST_GRANT_AVG_AMOUNT\n",
    "STUDSERV01\n",
    "TOTAL03_REVENUE\n",
    "TOTALCOMPLETIONS_100FTE\n",
    "TOTAL_ENROLLMENT_ASIAN_TOT\n",
    "TOTAL_ENROLLMENT_BLACK_TOT\n",
    "TOTAL_ENROLLMENT_HISP_TOT\n",
    "TOTAL_ENROLLMENT_WHITE_TOT\n",
    "\"\"\".split()\n",
    "\n",
    "cannot_impute = [feature for feature in conf_interval.keys() if feature not in imputable]\n",
    "print(len(imputable), len(cannot_impute))\n",
    "\n"
   ]
  },
  {
   "cell_type": "code",
   "execution_count": 57,
   "metadata": {
    "collapsed": false
   },
   "outputs": [],
   "source": [
    "# fig = plt.figure()\n",
    "# ax = fig.add_subplot(111)\n",
    "\n",
    "# for feature, confidence in conf_interval.items():\n",
    "#     plt.scatter(conf_interval[feature][0], conf_interval[feature][1])\n",
    "\n",
    "# ax.axis([-30, 30, -30, 30])\n",
    "# plt.show()"
   ]
  },
  {
   "cell_type": "code",
   "execution_count": null,
   "metadata": {
    "collapsed": true
   },
   "outputs": [],
   "source": []
  }
 ],
 "metadata": {
  "anaconda-cloud": {},
  "kernelspec": {
   "display_name": "Python [conda root]",
   "language": "python",
   "name": "conda-root-py"
  },
  "language_info": {
   "codemirror_mode": {
    "name": "ipython",
    "version": 3
   },
   "file_extension": ".py",
   "mimetype": "text/x-python",
   "name": "python",
   "nbconvert_exporter": "python",
   "pygments_lexer": "ipython3",
   "version": "3.5.2"
  }
 },
 "nbformat": 4,
 "nbformat_minor": 1
}
