{
 "cells": [
  {
   "cell_type": "code",
   "execution_count": 22,
   "metadata": {
    "collapsed": false
   },
   "outputs": [],
   "source": [
    "%matplotlib inline\n",
    "\n",
    "import matplotlib\n",
    "import numpy as np\n",
    "import pandas as pd\n",
    "import matplotlib.pyplot as plt\n",
    "from pprint import pprint\n",
    "import seaborn as sns\n",
    "\n"
   ]
  },
  {
   "cell_type": "code",
   "execution_count": 34,
   "metadata": {
    "collapsed": false
   },
   "outputs": [],
   "source": [
    "master = pd.read_csv(\"../data/trainFINAL.csv\")\n",
    "master = master.drop('ENDOWMENT03', axis=1)"
   ]
  },
  {
   "cell_type": "code",
   "execution_count": 35,
   "metadata": {
    "collapsed": false
   },
   "outputs": [
    {
     "data": {
      "image/png": "[encoded data removed]",
      "text/plain": [
       "<matplotlib.figure.Figure at 0x114f5ce48>"
      ]
     },
     "metadata": {},
     "output_type": "display_data"
    }
   ],
   "source": [
    "nans = pd.isnull(master)\n",
    "nans_copy = pd.isnull(master)\n",
    "\n",
    "from collections import Counter\n",
    "\n",
    "university_nans = Counter()\n",
    "column_count_nans = Counter()\n",
    "\n",
    "for index, row in zip(nans_copy.index, nans_copy.values):\n",
    "    row_data = dict(zip(nans_copy.columns.values, row))\n",
    "    for column, value in row_data.items():\n",
    "        if value:\n",
    "            university_nans[index] += 1\n",
    "            column_count_nans[column] += 1\n",
    "            \n",
    "# A good number of our institutions have between 0 and 10 NaN values.\n",
    "university_nan_dist = pd.DataFrame.from_dict(university_nans, orient='index').reset_index()\n",
    "university_nan_dist = university_nan_dist.rename(columns={'index':'event', 0:'count'})\n",
    "plt.hist(university_nan_dist['count'])\n",
    "\n",
    "# Feature to NaN DataFrame\n",
    "column_nan_dist = pd.DataFrame.from_dict(column_count_nans, orient='index').reset_index()\n",
    "column_nan_dist = column_nan_dist.rename(columns={'index':'event', 0:'count'})\n",
    "column_nan_dist['count'] = column_nan_dist['count'].astype(int)"
   ]
  },
  {
   "cell_type": "code",
   "execution_count": 36,
   "metadata": {
    "collapsed": false
   },
   "outputs": [
    {
     "name": "stdout",
     "output_type": "stream",
     "text": [
      "dict_keys(['PT_FACULTY_PER_100FTE', 'GRANT02', 'FED_GRANT_PCT', 'TOTAL_FULL_TIME', 'INSTITUTIONAL_GRANT_AID_SHARE', 'RESTRICTED_REVENUE', 'FT_FIRST_TIME_FIRST_YR_DEG_SEEK', 'TOTAL_ENROLLMENT_WHITE_TOT', 'NET_STUDENT_TUITION', 'STICKER_PRICE_SHARE', 'TUITION_DISCOUNT', 'INST_GRANT_PCT', 'NETTUITION01', 'TOTAL_ENROLLMENT_ASIAN_TOT', 'TOTAL_ENROLLMENT_BLACK_TOT', 'PRIV_INVEST_ENDOW', 'CERTIFICATES_AWARDS_100FTE', 'TOTALDEGREES_100FTE', 'LOAN_PCT', 'TOTALCOMPLETIONS_100FTE', 'TUITIONFEE02_TF', 'NETTUITION_SHARE', 'LOAN_AVG_AMOUNT', 'INST_GRANT_AVG_AMOUNT', 'ACADSUPP01', 'TOTAL_ENROLLMENT_HISP_TOT', 'SALARYTOTAL', 'GRANT01', 'GRANT07', 'STUDSERV01', 'FT_FACULTY_PER_100FTE', 'TOTAL03_REVENUE'])\n",
      "{'ACADSUPP01': (4.2073726781828764, 5.2744692402709941),\n",
      " 'CERTIFICATES_AWARDS_100FTE': (-5.4394269049486859, -4.3706866095833803),\n",
      " 'FED_GRANT_PCT': (-9.118177489037528, -7.7975494835965193),\n",
      " 'FT_FACULTY_PER_100FTE': (0.089825329286457589, 1.1157958877836527),\n",
      " 'FT_FIRST_TIME_FIRST_YR_DEG_SEEK': (-8.9163401179046211, -7.5458261171946397),\n",
      " 'GRANT01': (-9.0850808729801678, -7.5251171295098693),\n",
      " 'GRANT02': (0.098737349705790067, 1.3752045471045764),\n",
      " 'GRANT07': (-6.5473366752568554, -1.226904537572568),\n",
      " 'INSTITUTIONAL_GRANT_AID_SHARE': (3.6583397314049324, 4.7954199918828389),\n",
      " 'INST_GRANT_AVG_AMOUNT': (0.13274071321886916, 1.3035156280332953),\n",
      " 'INST_GRANT_PCT': (-9.118177489037528, -7.7975494835965193),\n",
      " 'LOAN_AVG_AMOUNT': (-9.0154342230598221, -7.5849931351842397),\n",
      " 'LOAN_PCT': (-9.118177489037528, -7.7975494835965193),\n",
      " 'NETTUITION01': (-8.8718579919394465, 5.4473438890714716),\n",
      " 'NETTUITION_SHARE': (-9.3042697015481757, 2.6855786889799971),\n",
      " 'NET_STUDENT_TUITION': (-8.8718579919394465, 5.4473438890714716),\n",
      " 'PRIV_INVEST_ENDOW': (3.8675134943615208, 5.0540622529340062),\n",
      " 'PT_FACULTY_PER_100FTE': (0.53161871684405737, 1.5513120352788268),\n",
      " 'RESTRICTED_REVENUE': (2.8945582148986011, 5.2043293233731243),\n",
      " 'SALARYTOTAL': (3.043101630019085, 4.2102929737637451),\n",
      " 'STICKER_PRICE_SHARE': (-9.3042697015481757, 2.6855786889799971),\n",
      " 'STUDSERV01': (-0.027744328816125874, 2.3375088941335838),\n",
      " 'TOTAL03_REVENUE': (-121.29496013022492, 136.45910214205924),\n",
      " 'TOTALCOMPLETIONS_100FTE': (-6.2545762400744493, 8.572119797086696),\n",
      " 'TOTALDEGREES_100FTE': (3.5047342346354595, 4.694229253707122),\n",
      " 'TOTAL_ENROLLMENT_ASIAN_TOT': (-7.7168545486939726, 6.7114431187674901),\n",
      " 'TOTAL_ENROLLMENT_BLACK_TOT': (-7.7168545486939726, 6.7114431187674901),\n",
      " 'TOTAL_ENROLLMENT_HISP_TOT': (-7.7168545486939726, 6.7114431187674901),\n",
      " 'TOTAL_ENROLLMENT_WHITE_TOT': (-7.7168545486939726, 6.7114431187674901),\n",
      " 'TOTAL_FULL_TIME': (-4.3605897807137453, 3.1124827259137753),\n",
      " 'TUITIONFEE02_TF': (1.7866005331427763, 2.9203581097886566),\n",
      " 'TUITION_DISCOUNT': (3.6583397314049324, 4.7954199918828389)}\n"
     ]
    }
   ],
   "source": [
    "import statsmodels.stats.api as sms\n",
    "\n",
    "conf_interval = {feature: 0 for feature in column_nan_dist['event']}\n",
    "\n",
    "pprint(conf_interval.keys())\n",
    "\n",
    "for feature in conf_interval.keys():\n",
    "    valid, invalid = master[master[feature].notnull()], master[master[feature].isnull()]\n",
    "    valid, invalid = valid['DRate'], invalid['DRate']\n",
    "    \n",
    "    cm = sms.CompareMeans(sms.DescrStatsW(invalid), sms.DescrStatsW(valid))\n",
    "    conf_interval[feature] = cm.tconfint_diff(usevar='unequal')\n",
    "    \n",
    "pprint(conf_interval)"
   ]
  },
  {
   "cell_type": "code",
   "execution_count": 62,
   "metadata": {
    "collapsed": false
   },
   "outputs": [
    {
     "name": "stdout",
     "output_type": "stream",
     "text": [
      "9 23\n"
     ]
    }
   ],
   "source": [
    "imputable = \"\"\"\n",
    "GRANT02\n",
    "INST_GRANT_AVG_AMOUNT\n",
    "STUDSERV01\n",
    "TOTAL03_REVENUE\n",
    "TOTALCOMPLETIONS_100FTE\n",
    "TOTAL_ENROLLMENT_ASIAN_TOT\n",
    "TOTAL_ENROLLMENT_BLACK_TOT\n",
    "TOTAL_ENROLLMENT_HISP_TOT\n",
    "TOTAL_ENROLLMENT_WHITE_TOT\n",
    "\"\"\".split()\n",
    "\n",
    "\n",
    "'''\n",
    " 'NETTUITION01': (-8.8718579919394465, 5.4473438890714716),\n",
    " 'NETTUITION_SHARE': (-9.3042697015481757, 2.6855786889799971),\n",
    " 'NET_STUDENT_TUITION': (-8.8718579919394465, 5.4473438890714716),\n",
    " 'STICKER_PRICE_SHARE': (-9.3042697015481757, 2.6855786889799971),\n",
    " 'STUDSERV01': (-0.027744328816125874, 2.3375088941335838),\n",
    " 'TOTAL03_REVENUE': (-121.29496013022492, 136.45910214205924),\n",
    " 'TOTALCOMPLETIONS_100FTE': (-6.2545762400744493, 8.572119797086696),\n",
    " 'TOTAL_ENROLLMENT_ASIAN_TOT': (-7.7168545486939726, 6.7114431187674901),\n",
    " 'TOTAL_ENROLLMENT_BLACK_TOT': (-7.7168545486939726, 6.7114431187674901),\n",
    " 'TOTAL_ENROLLMENT_HISP_TOT': (-7.7168545486939726, 6.7114431187674901),\n",
    " 'TOTAL_ENROLLMENT_WHITE_TOT': (-7.7168545486939726, 6.7114431187674901),\n",
    " 'TOTAL_FULL_TIME': (-4.3605897807137453, 3.1124827259137753),\n",
    "\n",
    "'''\n",
    "\n",
    "\n",
    "cannot_impute = [feature for feature in conf_interval.keys() if feature not in imputable]\n",
    "print(len(imputable), len(cannot_impute))\n",
    "\n"
   ]
  },
  {
   "cell_type": "code",
   "execution_count": 57,
   "metadata": {
    "collapsed": false
   },
   "outputs": [],
   "source": [
    "# fig = plt.figure()\n",
    "# ax = fig.add_subplot(111)\n",
    "\n",
    "# for feature, confidence in conf_interval.items():\n",
    "#     plt.scatter(conf_interval[feature][0], conf_interval[feature][1])\n",
    "\n",
    "# ax.axis([-30, 30, -30, 30])\n",
    "# plt.show()"
   ]
  },
  {
   "cell_type": "code",
   "execution_count": null,
   "metadata": {
    "collapsed": true
   },
   "outputs": [],
   "source": []
  }
 ],
 "metadata": {
  "anaconda-cloud": {},
  "kernelspec": {
   "display_name": "Python [Root]",
   "language": "python",
   "name": "Python [Root]"
  },
  "language_info": {
   "codemirror_mode": {
    "name": "ipython",
    "version": 3
   },
   "file_extension": ".py",
   "mimetype": "text/x-python",
   "name": "python",
   "nbconvert_exporter": "python",
   "pygments_lexer": "ipython3",
   "version": "3.5.2"
  }
 },
 "nbformat": 4,
 "nbformat_minor": 1
}
